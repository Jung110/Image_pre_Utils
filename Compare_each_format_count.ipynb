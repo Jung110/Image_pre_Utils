{
 "cells": [
  {
   "cell_type": "code",
   "execution_count": 11,
   "id": "87624684",
   "metadata": {},
   "outputs": [],
   "source": [
    "import os"
   ]
  },
  {
   "cell_type": "code",
   "execution_count": 23,
   "id": "02172b7b",
   "metadata": {},
   "outputs": [],
   "source": [
    "def compare_each_format_count(format1 : str,\n",
    "                             format2 : str,\n",
    "                             path : str) -> None:\n",
    "    \"\"\"\n",
    "    각각 format1, format2 형식인 이름은 같고 format만 다른 파일의 이름을 추출\n",
    "    위를 이용하여 어노테이션이 없는 이미지 데이터나 어노테이션만 있는 이미지 데이터를 알아낼 수 있다. \n",
    "    \"\"\"\n",
    "    \n",
    "    format1_list = set()\n",
    "    format2_list = set()\n",
    "    \n",
    "    for (file_dir ,_, file_names) in os.walk(path):\n",
    "        for name  in file_names:\n",
    "            name_list = name.split('.')\n",
    "            if name_list[-1] == format1:\n",
    "                format1_list.add(name_list[0])\n",
    "            else:\n",
    "                format2_list.add(name_list[0])\n",
    "    if(len(format1_list) >= len(format2_list)):\n",
    "        print(format1_list - format2_list ,format1 , 'is more')\n",
    "    else:\n",
    "        print(format2_list - format1_list,format2, 'is more')\n"
   ]
  },
  {
   "cell_type": "code",
   "execution_count": 24,
   "id": "c39d50a2",
   "metadata": {},
   "outputs": [
    {
     "name": "stdout",
     "output_type": "stream",
     "text": [
      "{'3 (21)', '3 (85)', 'real_00998'} jpg is more\n"
     ]
    }
   ],
   "source": [
    "compare_each_format_count('txt', 'jpg' , './images')"
   ]
  },
  {
   "cell_type": "code",
   "execution_count": null,
   "id": "0db6405f",
   "metadata": {},
   "outputs": [],
   "source": [
    "|"
   ]
  }
 ],
 "metadata": {
  "kernelspec": {
   "display_name": "Python 3 (ipykernel)",
   "language": "python",
   "name": "python3"
  },
  "language_info": {
   "codemirror_mode": {
    "name": "ipython",
    "version": 3
   },
   "file_extension": ".py",
   "mimetype": "text/x-python",
   "name": "python",
   "nbconvert_exporter": "python",
   "pygments_lexer": "ipython3",
   "version": "3.9.12"
  }
 },
 "nbformat": 4,
 "nbformat_minor": 5
}
